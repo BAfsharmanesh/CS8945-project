{
  "nbformat": 4,
  "nbformat_minor": 0,
  "metadata": {
    "colab": {
      "provenance": [],
      "authorship_tag": "ABX9TyMK1WwnII4NXFEqCWFe+2Ov",
      "include_colab_link": true
    },
    "kernelspec": {
      "name": "python3",
      "display_name": "Python 3"
    },
    "language_info": {
      "name": "python"
    }
  },
  "cells": [
    {
      "cell_type": "markdown",
      "metadata": {
        "id": "view-in-github",
        "colab_type": "text"
      },
      "source": [
        "<a href=\"https://colab.research.google.com/github/BAfsharmanesh/CS8945-project/blob/main/manifold_learning.ipynb\" target=\"_parent\"><img src=\"https://colab.research.google.com/assets/colab-badge.svg\" alt=\"Open In Colab\"/></a>"
      ]
    },
    {
      "cell_type": "code",
      "execution_count": 2,
      "metadata": {
        "id": "NO1TNiAiGbID"
      },
      "outputs": [],
      "source": [
        "!pip -q install gdown\n",
        "!gdown --folder \"https://drive.google.com/drive/folders/1IUaQJgQY1i9TZDWnY9x_eE8HBBSu22T_?usp=drive_link\" -O /content/dataset"
      ]
    },
    {
      "cell_type": "code",
      "source": [
        "import os\n",
        "import numpy as np\n",
        "\n",
        "# Directory containing the .npy files\n",
        "folder_path = '/content/dataset/rep-llama2-7b'\n",
        "\n",
        "# List all files in the directory\n",
        "all_files = os.listdir(folder_path)\n",
        "\n",
        "# Filter for .npy files\n",
        "npy_files = [f for f in all_files if f.endswith('.npy')]\n",
        "\n",
        "# Dictionary to store the loaded data\n",
        "loaded_data = {}\n",
        "\n",
        "# Load each .npy file\n",
        "for file_name in npy_files:\n",
        "    file_path = os.path.join(folder_path, file_name)\n",
        "    if 'layers' in file_name:\n",
        "      layer_number = file_name.split('.')[2]\n",
        "      loaded_data[layer_number] = np.load(file_path)\n",
        "    else:\n",
        "      loaded_data['norm'] = np.load(file_path)\n",
        "\n",
        "# You can access the loaded data using the file names as keys\n",
        "# For example, to access the data from 'rep-model.norm.npy':\n",
        "# print(loaded_data['rep-model.norm.npy'].shape)\n",
        "\n",
        "print(f\"Loaded {len(loaded_data)} .npy files.\")"
      ],
      "metadata": {
        "colab": {
          "base_uri": "https://localhost:8080/"
        },
        "id": "qEJPl0GpJ3aY",
        "outputId": "6e1ba081-b37a-4b20-bf72-d420a26c2829"
      },
      "execution_count": 1,
      "outputs": [
        {
          "output_type": "stream",
          "name": "stdout",
          "text": [
            "Loaded 33 .npy files.\n"
          ]
        }
      ]
    },
    {
      "cell_type": "code",
      "source": [
        "loaded_data[\"0\"].shape"
      ],
      "metadata": {
        "colab": {
          "base_uri": "https://localhost:8080/"
        },
        "id": "ii3N2jYGKcUg",
        "outputId": "eb95d728-a862-4a94-8fd1-08c963d5888e"
      },
      "execution_count": 4,
      "outputs": [
        {
          "output_type": "execute_result",
          "data": {
            "text/plain": [
              "(11855, 4096)"
            ]
          },
          "metadata": {},
          "execution_count": 4
        }
      ]
    },
    {
      "cell_type": "code",
      "source": [],
      "metadata": {
        "id": "a_AZX9dHKjNS"
      },
      "execution_count": null,
      "outputs": []
    }
  ]
}