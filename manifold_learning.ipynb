{
  "nbformat": 4,
  "nbformat_minor": 0,
  "metadata": {
    "colab": {
      "provenance": [],
      "include_colab_link": true
    },
    "kernelspec": {
      "name": "python3",
      "display_name": "Python 3"
    },
    "language_info": {
      "name": "python"
    }
  },
  "cells": [
    {
      "cell_type": "markdown",
      "metadata": {
        "id": "view-in-github",
        "colab_type": "text"
      },
      "source": [
        "<a href=\"https://colab.research.google.com/github/BAfsharmanesh/CS8945-project/blob/main/manifold_learning.ipynb\" target=\"_parent\"><img src=\"https://colab.research.google.com/assets/colab-badge.svg\" alt=\"Open In Colab\"/></a>"
      ]
    },
    {
      "cell_type": "code",
      "execution_count": null,
      "metadata": {
        "id": "NO1TNiAiGbID",
        "colab": {
          "base_uri": "https://localhost:8080/"
        },
        "outputId": "b607a1a6-a1b1-41ad-cb18-07f9d79f9f38"
      },
      "outputs": [
        {
          "output_type": "stream",
          "name": "stdout",
          "text": [
            "Retrieving folder contents\n",
            "Retrieving folder 1WCUV6adZ8K-OQrb0qYLrirlJoypAzfaj rep-llama2-7b\n",
            "Processing file 1cQj67jvxtmX8MMOe75EVlNfZ3gNHTcVw rep-model.layers.0.post_attention_layernorm.npy\n",
            "Processing file 1V7XV118zYQebVDiI3Rx-AlyLduBK4v94 rep-model.layers.1.post_attention_layernorm.npy\n",
            "Processing file 1wDUZA_XrmIH8xWGsZ4683e6wC_kks5Zi rep-model.layers.2.post_attention_layernorm.npy\n",
            "Processing file 1bUz1wBErSSEmt3Lstitx6Bftpa_rRMxM rep-model.layers.3.post_attention_layernorm.npy\n",
            "Processing file 1A7lSiuYKEPvM_2O_KDonObE9fXxbJIcY rep-model.layers.4.post_attention_layernorm.npy\n",
            "Processing file 1r8o4udUnjDhmCwHHWAm6ueC4i-n2EoUz rep-model.layers.5.post_attention_layernorm.npy\n",
            "Processing file 1agkLK4egDgpQ4S3rJUcDb6M8F0Fld_XY rep-model.layers.6.post_attention_layernorm.npy\n",
            "Processing file 1i0MsXSwmam8MtX1AHgIB5ozrDqtGcQNk rep-model.layers.7.post_attention_layernorm.npy\n",
            "Processing file 1AeGUUyutVLhWzKJjBQOvlMo1fM4t1Lvy rep-model.layers.8.post_attention_layernorm.npy\n",
            "Processing file 1B4NxZ4xvEfbV58xUEnYPwDZtz7Fv-RxG rep-model.layers.9.post_attention_layernorm.npy\n",
            "Processing file 1NSP56VOa4RKHchZy5RyDvZAyJ83rt_4z rep-model.layers.10.post_attention_layernorm.npy\n",
            "Processing file 1QVmfMAO990WQvH_3ax5hyo8RglGNkFzY rep-model.layers.11.post_attention_layernorm.npy\n",
            "Processing file 1eLkvT0nZlFudCFWgvLpSVltaLnrPvdL6 rep-model.layers.12.post_attention_layernorm.npy\n",
            "Processing file 1FyL1-xVUG_Jss6UXs61tbhlrOD7ee4MV rep-model.layers.13.post_attention_layernorm.npy\n",
            "Processing file 1obilphphNYulH0vZoWHoOMNU9AUnRMcr rep-model.layers.14.post_attention_layernorm.npy\n",
            "Processing file 1WsW0HLMbouJmFQBD_nzQcU26ocRYFNZE rep-model.layers.15.post_attention_layernorm.npy\n",
            "Processing file 1dEHc7uSj8JmoX1ZjURaaaKKVoojqoVFo rep-model.layers.16.post_attention_layernorm.npy\n",
            "Processing file 14zomwJu0Bp7cNU6kCCrMKH8QeTFjBQes rep-model.layers.17.post_attention_layernorm.npy\n",
            "Processing file 1tm3qanMSU7Blb4InUwTKGnC1nHopHCnQ rep-model.layers.18.post_attention_layernorm.npy\n",
            "Processing file 1hogjKP4dbp6iIvYpmzk51BAad9o3tHng rep-model.layers.19.post_attention_layernorm.npy\n",
            "Processing file 1mvNC0B0aP3GRHaEEgULZqSHJrPVXZ4OB rep-model.layers.20.post_attention_layernorm.npy\n",
            "Processing file 1-y2-LZf9DcJKV9cZrakrfGjCOsnFifBP rep-model.layers.21.post_attention_layernorm.npy\n",
            "Processing file 1JJpm_F-WtvX-bt3CWiqqWQ3IAPQVrhKS rep-model.layers.22.post_attention_layernorm.npy\n",
            "Processing file 1UkUzA9XkVhr_jY-dPy4afoEKl9DXMHrs rep-model.layers.23.post_attention_layernorm.npy\n",
            "Processing file 1_VkcrJzjJDTMkR7k-_JGWn2S_5AMgywC rep-model.layers.24.post_attention_layernorm.npy\n",
            "Processing file 1KLYhRzbpZDDkLrXUR823xiwG0CxJlKh9 rep-model.layers.25.post_attention_layernorm.npy\n",
            "Processing file 1Gc-3-q1_MRbEWp48jOU3j9Fc6a7UBuNu rep-model.layers.26.post_attention_layernorm.npy\n",
            "Processing file 1oE_0UyjOFmEIKQrjoYvj7u76fS4Uuxb7 rep-model.layers.27.post_attention_layernorm.npy\n",
            "Processing file 1gpvlJZTwBBJqh9A5xO9fYc80mBccgOpW rep-model.layers.28.post_attention_layernorm.npy\n",
            "Processing file 1TZ7uWqKVr1bdinh6h5Do62WiJuVGZvMn rep-model.layers.29.post_attention_layernorm.npy\n",
            "Processing file 1Hg2qHdF-1Q6rmHvHsy1FzbX2XADLvB0M rep-model.layers.30.post_attention_layernorm.npy\n",
            "Processing file 1huDnI7d30BA2Yu7GHF3GN_Fa1blF9_y2 rep-model.layers.31.post_attention_layernorm.npy\n",
            "Processing file 1slw4VmUSvCTpnWaefqxN5AFTsEAeUXgu rep-model.norm.npy\n",
            "Retrieving folder contents completed\n",
            "Building directory structure\n",
            "Building directory structure completed\n",
            "Downloading...\n",
            "From (original): https://drive.google.com/uc?id=1cQj67jvxtmX8MMOe75EVlNfZ3gNHTcVw\n",
            "From (redirected): https://drive.google.com/uc?id=1cQj67jvxtmX8MMOe75EVlNfZ3gNHTcVw&confirm=t&uuid=add27734-c067-4a36-8d67-bb6cf8033ec3\n",
            "To: /content/dataset/rep-llama2-7b/rep-model.layers.0.post_attention_layernorm.npy\n",
            "100% 194M/194M [00:02<00:00, 67.9MB/s]\n",
            "Downloading...\n",
            "From (original): https://drive.google.com/uc?id=1V7XV118zYQebVDiI3Rx-AlyLduBK4v94\n",
            "From (redirected): https://drive.google.com/uc?id=1V7XV118zYQebVDiI3Rx-AlyLduBK4v94&confirm=t&uuid=c408a873-7eb1-451b-a5ab-eddc9f5c0bec\n",
            "To: /content/dataset/rep-llama2-7b/rep-model.layers.1.post_attention_layernorm.npy\n",
            "100% 194M/194M [00:01<00:00, 111MB/s]\n",
            "Downloading...\n",
            "From (original): https://drive.google.com/uc?id=1wDUZA_XrmIH8xWGsZ4683e6wC_kks5Zi\n",
            "From (redirected): https://drive.google.com/uc?id=1wDUZA_XrmIH8xWGsZ4683e6wC_kks5Zi&confirm=t&uuid=af30ad6d-fecb-4375-b852-f25995e82bc3\n",
            "To: /content/dataset/rep-llama2-7b/rep-model.layers.2.post_attention_layernorm.npy\n",
            "100% 194M/194M [00:02<00:00, 92.7MB/s]\n",
            "Downloading...\n",
            "From (original): https://drive.google.com/uc?id=1bUz1wBErSSEmt3Lstitx6Bftpa_rRMxM\n",
            "From (redirected): https://drive.google.com/uc?id=1bUz1wBErSSEmt3Lstitx6Bftpa_rRMxM&confirm=t&uuid=f52f9794-84aa-4ca8-ab8f-1909ff7cce1a\n",
            "To: /content/dataset/rep-llama2-7b/rep-model.layers.3.post_attention_layernorm.npy\n",
            "100% 194M/194M [00:02<00:00, 93.0MB/s]\n",
            "Downloading...\n",
            "From (original): https://drive.google.com/uc?id=1A7lSiuYKEPvM_2O_KDonObE9fXxbJIcY\n",
            "From (redirected): https://drive.google.com/uc?id=1A7lSiuYKEPvM_2O_KDonObE9fXxbJIcY&confirm=t&uuid=4d2df5da-4b4b-486b-b1b6-1d0c991097d7\n",
            "To: /content/dataset/rep-llama2-7b/rep-model.layers.4.post_attention_layernorm.npy\n",
            "100% 194M/194M [00:01<00:00, 99.1MB/s]\n",
            "Downloading...\n",
            "From (original): https://drive.google.com/uc?id=1r8o4udUnjDhmCwHHWAm6ueC4i-n2EoUz\n",
            "From (redirected): https://drive.google.com/uc?id=1r8o4udUnjDhmCwHHWAm6ueC4i-n2EoUz&confirm=t&uuid=9c60aa08-765a-4234-b2ca-856227c581f3\n",
            "To: /content/dataset/rep-llama2-7b/rep-model.layers.5.post_attention_layernorm.npy\n",
            "100% 194M/194M [00:02<00:00, 94.4MB/s]\n",
            "Downloading...\n",
            "From (original): https://drive.google.com/uc?id=1agkLK4egDgpQ4S3rJUcDb6M8F0Fld_XY\n",
            "From (redirected): https://drive.google.com/uc?id=1agkLK4egDgpQ4S3rJUcDb6M8F0Fld_XY&confirm=t&uuid=657a23f5-1c18-4876-af2f-ded02b4fd401\n",
            "To: /content/dataset/rep-llama2-7b/rep-model.layers.6.post_attention_layernorm.npy\n",
            "100% 194M/194M [00:02<00:00, 77.5MB/s]\n",
            "Downloading...\n",
            "From (original): https://drive.google.com/uc?id=1i0MsXSwmam8MtX1AHgIB5ozrDqtGcQNk\n",
            "From (redirected): https://drive.google.com/uc?id=1i0MsXSwmam8MtX1AHgIB5ozrDqtGcQNk&confirm=t&uuid=877cf6d1-fa42-45e0-b729-e339d06a04c8\n",
            "To: /content/dataset/rep-llama2-7b/rep-model.layers.7.post_attention_layernorm.npy\n",
            "100% 194M/194M [00:02<00:00, 68.8MB/s]\n",
            "Downloading...\n",
            "From (original): https://drive.google.com/uc?id=1AeGUUyutVLhWzKJjBQOvlMo1fM4t1Lvy\n",
            "From (redirected): https://drive.google.com/uc?id=1AeGUUyutVLhWzKJjBQOvlMo1fM4t1Lvy&confirm=t&uuid=f02f1f62-72df-4d2b-a363-6e40adae80f0\n",
            "To: /content/dataset/rep-llama2-7b/rep-model.layers.8.post_attention_layernorm.npy\n",
            "100% 194M/194M [00:02<00:00, 80.4MB/s]\n",
            "Downloading...\n",
            "From (original): https://drive.google.com/uc?id=1B4NxZ4xvEfbV58xUEnYPwDZtz7Fv-RxG\n",
            "From (redirected): https://drive.google.com/uc?id=1B4NxZ4xvEfbV58xUEnYPwDZtz7Fv-RxG&confirm=t&uuid=3bc77c88-d6fe-4f00-8a5f-0cba56b4d8b7\n",
            "To: /content/dataset/rep-llama2-7b/rep-model.layers.9.post_attention_layernorm.npy\n",
            "100% 194M/194M [00:01<00:00, 110MB/s]\n",
            "Downloading...\n",
            "From (original): https://drive.google.com/uc?id=1NSP56VOa4RKHchZy5RyDvZAyJ83rt_4z\n",
            "From (redirected): https://drive.google.com/uc?id=1NSP56VOa4RKHchZy5RyDvZAyJ83rt_4z&confirm=t&uuid=816f4ea6-6722-4989-97ee-e45003eea830\n",
            "To: /content/dataset/rep-llama2-7b/rep-model.layers.10.post_attention_layernorm.npy\n",
            "100% 194M/194M [00:03<00:00, 64.4MB/s]\n",
            "Downloading...\n",
            "From (original): https://drive.google.com/uc?id=1QVmfMAO990WQvH_3ax5hyo8RglGNkFzY\n",
            "From (redirected): https://drive.google.com/uc?id=1QVmfMAO990WQvH_3ax5hyo8RglGNkFzY&confirm=t&uuid=7d6dc26f-1f87-4001-b2a7-e6f039ea4ae4\n",
            "To: /content/dataset/rep-llama2-7b/rep-model.layers.11.post_attention_layernorm.npy\n",
            "100% 194M/194M [00:02<00:00, 85.4MB/s]\n",
            "Downloading...\n",
            "From (original): https://drive.google.com/uc?id=1eLkvT0nZlFudCFWgvLpSVltaLnrPvdL6\n",
            "From (redirected): https://drive.google.com/uc?id=1eLkvT0nZlFudCFWgvLpSVltaLnrPvdL6&confirm=t&uuid=a19b2672-bfcc-4b3a-96d5-1e380144d347\n",
            "To: /content/dataset/rep-llama2-7b/rep-model.layers.12.post_attention_layernorm.npy\n",
            "100% 194M/194M [00:01<00:00, 107MB/s]\n",
            "Downloading...\n",
            "From (original): https://drive.google.com/uc?id=1FyL1-xVUG_Jss6UXs61tbhlrOD7ee4MV\n",
            "From (redirected): https://drive.google.com/uc?id=1FyL1-xVUG_Jss6UXs61tbhlrOD7ee4MV&confirm=t&uuid=68f65b91-518f-4e9a-a0c2-3a157a7964e3\n",
            "To: /content/dataset/rep-llama2-7b/rep-model.layers.13.post_attention_layernorm.npy\n",
            "100% 194M/194M [00:04<00:00, 47.7MB/s]\n",
            "Downloading...\n",
            "From (original): https://drive.google.com/uc?id=1obilphphNYulH0vZoWHoOMNU9AUnRMcr\n",
            "From (redirected): https://drive.google.com/uc?id=1obilphphNYulH0vZoWHoOMNU9AUnRMcr&confirm=t&uuid=57f4521c-84dc-47ae-9635-2e3a435a4300\n",
            "To: /content/dataset/rep-llama2-7b/rep-model.layers.14.post_attention_layernorm.npy\n",
            "100% 194M/194M [00:01<00:00, 97.7MB/s]\n",
            "Downloading...\n",
            "From (original): https://drive.google.com/uc?id=1WsW0HLMbouJmFQBD_nzQcU26ocRYFNZE\n",
            "From (redirected): https://drive.google.com/uc?id=1WsW0HLMbouJmFQBD_nzQcU26ocRYFNZE&confirm=t&uuid=3f2b9eda-aea0-4223-80b4-51be77ee4064\n",
            "To: /content/dataset/rep-llama2-7b/rep-model.layers.15.post_attention_layernorm.npy\n",
            "100% 194M/194M [00:02<00:00, 87.8MB/s]\n",
            "Downloading...\n",
            "From (original): https://drive.google.com/uc?id=1dEHc7uSj8JmoX1ZjURaaaKKVoojqoVFo\n",
            "From (redirected): https://drive.google.com/uc?id=1dEHc7uSj8JmoX1ZjURaaaKKVoojqoVFo&confirm=t&uuid=3ff51cc4-128b-48f5-8ebb-4a00810c1351\n",
            "To: /content/dataset/rep-llama2-7b/rep-model.layers.16.post_attention_layernorm.npy\n",
            "100% 194M/194M [00:02<00:00, 92.2MB/s]\n",
            "Downloading...\n",
            "From (original): https://drive.google.com/uc?id=14zomwJu0Bp7cNU6kCCrMKH8QeTFjBQes\n",
            "From (redirected): https://drive.google.com/uc?id=14zomwJu0Bp7cNU6kCCrMKH8QeTFjBQes&confirm=t&uuid=aa90e934-6c74-4b4c-9505-e22c78cb1d60\n",
            "To: /content/dataset/rep-llama2-7b/rep-model.layers.17.post_attention_layernorm.npy\n",
            "100% 194M/194M [00:01<00:00, 111MB/s]\n",
            "Downloading...\n",
            "From (original): https://drive.google.com/uc?id=1tm3qanMSU7Blb4InUwTKGnC1nHopHCnQ\n",
            "From (redirected): https://drive.google.com/uc?id=1tm3qanMSU7Blb4InUwTKGnC1nHopHCnQ&confirm=t&uuid=b477c9a4-a899-407d-b8e9-687a81a672d0\n",
            "To: /content/dataset/rep-llama2-7b/rep-model.layers.18.post_attention_layernorm.npy\n",
            " 57% 111M/194M [00:01<00:01, 62.2MB/s] "
          ]
        }
      ],
      "source": [
        "!pip -q install gdown\n",
        "!gdown --folder \"https://drive.google.com/drive/folders/1IUaQJgQY1i9TZDWnY9x_eE8HBBSu22T_?usp=drive_link\" -O /content/dataset"
      ]
    },
    {
      "cell_type": "code",
      "source": [
        "import os\n",
        "import numpy as np\n",
        "\n",
        "# Directory containing the .npy files\n",
        "folder_path = '/content/dataset/rep-llama2-7b'\n",
        "\n",
        "# List all files in the directory\n",
        "all_files = os.listdir(folder_path)\n",
        "\n",
        "# Filter for .npy files\n",
        "npy_files = [f for f in all_files if f.endswith('.npy')]\n",
        "\n",
        "# Dictionary to store the loaded data\n",
        "loaded_data = {}\n",
        "\n",
        "# Load each .npy file\n",
        "for file_name in npy_files:\n",
        "    file_path = os.path.join(folder_path, file_name)\n",
        "    if 'layers' in file_name:\n",
        "      layer_number = file_name.split('.')[2]\n",
        "      loaded_data[layer_number] = np.load(file_path)\n",
        "    else:\n",
        "      loaded_data['norm'] = np.load(file_path)\n",
        "\n",
        "# You can access the loaded data using the file names as keys\n",
        "# For example, to access the data from 'rep-model.norm.npy':\n",
        "# print(loaded_data['rep-model.norm.npy'].shape)\n",
        "\n",
        "print(f\"Loaded {len(loaded_data)} .npy files.\")"
      ],
      "metadata": {
        "colab": {
          "base_uri": "https://localhost:8080/"
        },
        "id": "qEJPl0GpJ3aY",
        "outputId": "6e1ba081-b37a-4b20-bf72-d420a26c2829"
      },
      "execution_count": null,
      "outputs": [
        {
          "output_type": "stream",
          "name": "stdout",
          "text": [
            "Loaded 33 .npy files.\n"
          ]
        }
      ]
    },
    {
      "cell_type": "code",
      "source": [
        "loaded_data[\"0\"].shape"
      ],
      "metadata": {
        "colab": {
          "base_uri": "https://localhost:8080/"
        },
        "id": "ii3N2jYGKcUg",
        "outputId": "eb95d728-a862-4a94-8fd1-08c963d5888e"
      },
      "execution_count": null,
      "outputs": [
        {
          "output_type": "execute_result",
          "data": {
            "text/plain": [
              "(11855, 4096)"
            ]
          },
          "metadata": {},
          "execution_count": 4
        }
      ]
    },
    {
      "cell_type": "code",
      "source": [],
      "metadata": {
        "id": "a_AZX9dHKjNS"
      },
      "execution_count": null,
      "outputs": []
    }
  ]
}